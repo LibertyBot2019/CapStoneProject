{
 "cells": [
  {
   "cell_type": "markdown",
   "metadata": {
    "collapsed": true
   },
   "source": [
    "# Recommendation system for tourists to find a hotel in preferred neighborhoods in NYC"
   ]
  },
  {
   "cell_type": "markdown",
   "metadata": {},
   "source": [
    "### Report of the final project - capstone project in IBM data science course"
   ]
  },
  {
   "cell_type": "markdown",
   "metadata": {},
   "source": [
    " "
   ]
  },
  {
   "cell_type": "markdown",
   "metadata": {},
   "source": [
    " "
   ]
  },
  {
   "cell_type": "markdown",
   "metadata": {},
   "source": [
    " "
   ]
  },
  {
   "cell_type": "markdown",
   "metadata": {},
   "source": [
    " "
   ]
  },
  {
   "cell_type": "markdown",
   "metadata": {},
   "source": [
    "###                               Table of Contents"
   ]
  },
  {
   "cell_type": "markdown",
   "metadata": {},
   "source": [
    "###### 1. Introduction\n",
    "###### 2. Data\n",
    "###### 3. Methodology\n",
    "###### 4. K-means Analysis\n",
    "###### 5. Results\n",
    "###### 6. Discussion"
   ]
  },
  {
   "cell_type": "markdown",
   "metadata": {},
   "source": [
    " "
   ]
  },
  {
   "cell_type": "markdown",
   "metadata": {},
   "source": [
    " "
   ]
  },
  {
   "cell_type": "markdown",
   "metadata": {},
   "source": [
    "## 1. Introduction"
   ]
  },
  {
   "cell_type": "markdown",
   "metadata": {},
   "source": [
    "#### 1.1 Background"
   ]
  },
  {
   "cell_type": "markdown",
   "metadata": {},
   "source": [
    "New York city is one of the most popular tourist cities. The tourist population in New York has continuously increased in past nine years and welcomed approximately 65.2 million visitors in 2018, includling overall 37.9 million visitors who stayed overnight in 2018. When people decide to visit a city, usually the first step they will do is going to a website to reserve fly and hotel. Lots of visitors might want to book a hotel sorrounded by restoraunts near by, so they can have nice dining out, and taste different styles and delicious food during their visit in NYC. \n",
    "\n",
    "However, there is no even one tour website which helps visitors to find their most favorite neighborhood based on the restaurant flavors. For example, Booking.com is a famous website for booking accommodations. This website put together several menus for their customers to search different accommondations seperately. For example, if you searched hotels, you got a result of hotel list. If you want to know the surrounding accommodations, such as restourants and public transport stations, you need to do a lot of extra searches on other search engines like Google. \n",
    "\n",
    "This project will leverage foursquare location data to build a recommendation system to help tourist to find their most favorable hotels to stay in NYC and explore the surroundings of the hotel based on their preferred restaurant styles. "
   ]
  },
  {
   "cell_type": "markdown",
   "metadata": {},
   "source": [
    "#### 1.2 Problem description"
   ]
  },
  {
   "cell_type": "markdown",
   "metadata": {},
   "source": [
    "Here is a scenario, suppose a family wants to take their vacation in Manhattan, NYC. First of all, since NYC is known as a famous congested traffic city, and its parking spot is always limited, this family chooses public transportation instead of driving. Second, they might also want to stay in a comfort hotel which has a lot of restaurants in a walking distance, so they can easily have nice lunchs or diners in nearby restaurants during their stay. Furthermore, they might prefer some styles of food, for example, Chinese, Indian, or Mexican food. Third, they might want train station within walking distance.\n",
    "\n",
    "From a data scientist's view, this problem is described as a family wants a hotel (a GPS point) in a neighborhood that meets below requirments:\n",
    "\n",
    "1) In a hotel with at least several restaurants nearby.\n",
    "\n",
    "2) Prefer certain style of food.\n"
   ]
  },
  {
   "cell_type": "markdown",
   "metadata": {},
   "source": [
    "## 2. Data"
   ]
  },
  {
   "cell_type": "markdown",
   "metadata": {},
   "source": [
    "To complete this project, we need get some geography data as below:"
   ]
  },
  {
   "cell_type": "markdown",
   "metadata": {},
   "source": [
    "**First**, I download NYC neighbourhood geography data from https://geo.nyu.edu/catalog/nyu_2451_34572. and retrieved 5 boroughs and 306 neighborhoods geography data of New York city from the downloaded file. figure_2_1 shows the top 10 records of NYC neighborhoods.\n",
    "\n",
    "Since borough Manhattan is the most want to stay for the family in this project, I extracted neighborhoods in Borough Manhattan to do data analysis. After data pre-processing, I got the dataframe which includes 40 neighborhoods' geography data in Manhatann. figure_2_2 shows the top 10 neighborhoods geography data in Manhattan."
   ]
  },
  {
   "cell_type": "markdown",
   "metadata": {},
   "source": [
    "<table width=\"100%\">\n",
    "    <tr>\n",
    "        <td> <img src=\"img/figure_2_1.png\" alt=\"Figure_2_1\"/>  </td>\n",
    "        <td> <img src=\"img/figure_2_2.png\" alt=\"Figure_2_2\"/>  </td>\n",
    "    </tr>\n",
    "</table>"
   ]
  },
  {
   "cell_type": "markdown",
   "metadata": {},
   "source": [
    "Figure_2_3 shows the Manhattan map when Manhattan neighborhoods data was put on it"
   ]
  },
  {
   "cell_type": "markdown",
   "metadata": {},
   "source": [
    "<img src=\"img/figure_2_3.png\" alt=\"Figure_2_3\"/>"
   ]
  },
  {
   "cell_type": "markdown",
   "metadata": {},
   "source": [
    "**Second**,  a location technology platform - Foursquare.com provides powerful venue and location informations. I leverage the Foursquare API to  get all of restaurants in every neighborhood in Manhanttan.\n",
    "\n",
    "From Foursquare API, I got 871 restaurants in borough Manhattan. Below table_2_4 shows part of restaurant informations."
   ]
  },
  {
   "cell_type": "markdown",
   "metadata": {},
   "source": [
    "<img src=\"img/figure_2_4.png\" />"
   ]
  },
  {
   "cell_type": "markdown",
   "metadata": {},
   "source": [
    "In the analysis section I will analysis restaurants and their categories for each neighborhood in Manhanttan base on table-2-2 and table-2-4, then found out the most preferred hotels."
   ]
  },
  {
   "cell_type": "markdown",
   "metadata": {},
   "source": [
    "## 3. Methodology"
   ]
  },
  {
   "cell_type": "markdown",
   "metadata": {},
   "source": [
    "### 3.1 Data Pre processing"
   ]
  },
  {
   "cell_type": "markdown",
   "metadata": {},
   "source": [
    "**Step 1**  When I download source data from a website, usually I can't get the exact data fields or data format as we wanted. This project I have same problems. In this project, the NYC neighborhoods geography data has 16 properties. I extracted 4 properties in each record, and then select the Borough Manhattan geography data(see figure_2_2) for next step analysis in this project."
   ]
  },
  {
   "cell_type": "markdown",
   "metadata": {},
   "source": [
    "**Step 2** Based on the Manhattan neighborhoods geographic data, I used Foursquare API to get all venues for every neighborhoods in Manhattan, and then extracted restaurant venues records,see Figure_2_4"
   ]
  },
  {
   "cell_type": "markdown",
   "metadata": {},
   "source": [
    "**Step 3** This step is data wrangling.For example, the value of the venue category in the dataframe is not standardlized.  so I copied the current category and add as a new regional stype column and reorganize the venue categories before further analysis. For example, some restaurants registed their category as \"Dim Sum Restaurant\", actually this belongs to Chinese style restaurant, so \"Dim Sum Restaurant\" is replaced with \"chinese restaurant\" in the regional style column."
   ]
  },
  {
   "cell_type": "markdown",
   "metadata": {},
   "source": [
    "### 3.2  Analysis"
   ]
  },
  {
   "cell_type": "markdown",
   "metadata": {},
   "source": [
    "An variable \"prfr_opts\" was created for preferred options to include all preferred restaurant styles selected by user. I practised a senario that a family tourists prefer Chinese style , Japanese style and sea food restaurants. From the Figure_3_2, We can find out there are 192 restaurants have been selected and put into \"prfr_rsts\" I use the pandas dataframe isin(prfr_opts) function to select all of the preferred style restaurants, reset dataframe index, see Figure_3_2"
   ]
  },
  {
   "cell_type": "markdown",
   "metadata": {},
   "source": [
    "<img src=\"img/figure_3_2.png\" />"
   ]
  },
  {
   "cell_type": "markdown",
   "metadata": {},
   "source": [
    "Then all of the hotel records in Manhattan has been selected and put into variable htl_df for further analysis. From the Figure_3_3, we can see there are 63 hotels currently opened for booking."
   ]
  },
  {
   "cell_type": "markdown",
   "metadata": {},
   "source": [
    "<img src=\"img/figure_3_3.png\" />"
   ]
  },
  {
   "cell_type": "markdown",
   "metadata": {},
   "source": [
    "The goal of this project is to recommen hotels that meets the user's two requirments: number of preferred types of restaurants near the hotels and they are in a walking distance.\n",
    "\n",
    "Since some hotels have more then ten preferred restaurants near by, Some hotels might only have one or two preferred restaurants near by. So what's the least number of the preferred restaurants nearby should be recommended? This least number is apperently should be descided by the user. Here I use a varialbe \"least_num\" to let user to descide at least number of the preferred restaurants near a hotel to be recommended.\n",
    "\n",
    "Also, how many meters away is in a walking distance? Different users might have their own feelings about walking distance. So this project also allows user to decide his own distance as walking distance. A variable \"distance_m\" was created for the walking distance in meter.\n",
    "\n",
    "Based on the variable \"least_num\" and variable \"distance_m\", two scenarios are desmonstrated as below."
   ]
  },
  {
   "cell_type": "markdown",
   "metadata": {},
   "source": [
    "Senario 1, when least_num >= 5"
   ]
  },
  {
   "cell_type": "code",
   "execution_count": null,
   "metadata": {},
   "outputs": [],
   "source": [
    "# "
   ]
  },
  {
   "cell_type": "markdown",
   "metadata": {},
   "source": [
    "## 5. Results"
   ]
  },
  {
   "cell_type": "code",
   "execution_count": null,
   "metadata": {},
   "outputs": [],
   "source": []
  },
  {
   "cell_type": "code",
   "execution_count": null,
   "metadata": {},
   "outputs": [],
   "source": []
  },
  {
   "cell_type": "code",
   "execution_count": null,
   "metadata": {},
   "outputs": [],
   "source": []
  },
  {
   "cell_type": "markdown",
   "metadata": {},
   "source": [
    "## 6. Discussion"
   ]
  },
  {
   "cell_type": "code",
   "execution_count": null,
   "metadata": {},
   "outputs": [],
   "source": []
  },
  {
   "cell_type": "code",
   "execution_count": null,
   "metadata": {},
   "outputs": [],
   "source": []
  }
 ],
 "metadata": {
  "kernelspec": {
   "display_name": "Python 3",
   "language": "python",
   "name": "python3"
  },
  "language_info": {
   "codemirror_mode": {
    "name": "ipython",
    "version": 3
   },
   "file_extension": ".py",
   "mimetype": "text/x-python",
   "name": "python",
   "nbconvert_exporter": "python",
   "pygments_lexer": "ipython3",
   "version": "3.7.6"
  }
 },
 "nbformat": 4,
 "nbformat_minor": 1
}
