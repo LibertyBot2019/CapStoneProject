{
 "cells": [
  {
   "cell_type": "markdown",
   "metadata": {
    "collapsed": true
   },
   "source": [
    "# Recommendation system for tourists to find a hotel in preferred neighborhoods in NYC"
   ]
  },
  {
   "cell_type": "markdown",
   "metadata": {},
   "source": [
    "### Report of the final project - capstone project in IBM data science course"
   ]
  },
  {
   "cell_type": "markdown",
   "metadata": {},
   "source": [
    " "
   ]
  },
  {
   "cell_type": "markdown",
   "metadata": {},
   "source": [
    " "
   ]
  },
  {
   "cell_type": "markdown",
   "metadata": {},
   "source": [
    " "
   ]
  },
  {
   "cell_type": "markdown",
   "metadata": {},
   "source": [
    " "
   ]
  },
  {
   "cell_type": "markdown",
   "metadata": {},
   "source": [
    "###                               Table of Contents"
   ]
  },
  {
   "cell_type": "markdown",
   "metadata": {},
   "source": [
    "###### 1. Introduction\n",
    "###### 2. Data\n",
    "###### 3. Methodology\n",
    "###### 4. K-means Analysis\n",
    "###### 5. Results\n",
    "###### 6. Discussion"
   ]
  },
  {
   "cell_type": "markdown",
   "metadata": {},
   "source": [
    " "
   ]
  },
  {
   "cell_type": "markdown",
   "metadata": {},
   "source": [
    " "
   ]
  },
  {
   "cell_type": "markdown",
   "metadata": {},
   "source": [
    "## 1. Introduction"
   ]
  },
  {
   "cell_type": "markdown",
   "metadata": {},
   "source": [
    "#### 1.1 Background"
   ]
  },
  {
   "cell_type": "markdown",
   "metadata": {},
   "source": [
    "New York city is one of the most popular tourist cities. The city's tourist population has continuously increased in past nine years and welcomed approximately 65.2 million visitors in 2018, includling overall 37.9 million visitors who stayed overnight in 2018. When people decide to visit a city, the first step they will do is going to a website to reserve fly and hotel. Lots of visitors might want to book a hotel sorrounded by restoraunts near by, so they can have nice dining out, and taste different styles and delicious food during their visit in NYC. \n",
    "\n",
    "However, there lacks a tour website that helps visitors to find their most favorite neighborhood for their stay. For example, Booking.com is a famous website for booking accommodations. This website put together several menus for their customers to search different accommondations seperately. For example, if you searched hotels, you got a result of hotel list. If you want to know the surrounding accommodations, such as restourants and public transport stations, you need to do a lot of extra searches on other search engines like Google. \n",
    "\n",
    "This project will leverage foursquare location data and use ‘k-means clustering’ machine learning algorithm to build a recommendation system to help tourist to find their most favorable neighbohood to stay in NYC and explore the surroundings of the hotel based on their preferred features. "
   ]
  },
  {
   "cell_type": "markdown",
   "metadata": {},
   "source": [
    "#### 1.2 Problem description"
   ]
  },
  {
   "cell_type": "markdown",
   "metadata": {},
   "source": [
    "Suppose a family wants to take their vacation in NYC. First of all, since NYC is known as a famous congested traffic city, and its parking spot is always limited, this family chooses public transportation instead of driving. Second, they might also want to stay in a comfort hotel which has a lot of restaurants in a walking distance, so they can easily have nice lunchs or diners in nearby restaurants during their stay. Furthermore, they might prefer some styles of food, for example, Chinese, Indian, or Mexican food. Third, they might want train station within walking distance.\n",
    "\n",
    "From a data scientist's view, this problem is described as a family wants a hotel (a GPS point) in a neighborhood that meets below requirments:\n",
    "\n",
    "1) In a neighbourhood with many restaurants nearby.\n",
    "\n",
    "2) Prefer certain style of food.\n"
   ]
  },
  {
   "cell_type": "markdown",
   "metadata": {},
   "source": [
    "## 2. Data"
   ]
  },
  {
   "cell_type": "markdown",
   "metadata": {},
   "source": [
    "To complete this project, we need get some geography data as below:"
   ]
  },
  {
   "cell_type": "markdown",
   "metadata": {},
   "source": [
    "First, I download NYC neighbourhood geography data from https://geo.nyu.edu/catalog/nyu_2451_34572. and retrieved 5 boroughs and 306 neighborhoods geography data of New York city from the downloaded file. Since borough Manhattan is the most want to stay for the family in this project, I extract neighborhoods in Manhattan to do data analysis\n",
    "\n",
    "There 40 neighborhoods in Manhattan, below table_2_1 shows the first 10 neighborhoods geography data in Manhattan."
   ]
  },
  {
   "cell_type": "markdown",
   "metadata": {},
   "source": [
    "![Table_2_1](img/table0201.png)"
   ]
  },
  {
   "cell_type": "markdown",
   "metadata": {},
   "source": [
    "<div align=\"center\"> table_2_1  </div>  "
   ]
  },
  {
   "cell_type": "markdown",
   "metadata": {},
   "source": [
    "Second,  a location technology platform - Foursquare.com provides powerful location informations. I leverage the Foursquare API to  get all of restaurants in every neighborhood in Manhanttan.\n",
    "\n",
    "I find 774 restaurants in borough Manhattan via Foursquare API, below table_2_2 shows part of restaurant informations."
   ]
  },
  {
   "cell_type": "markdown",
   "metadata": {},
   "source": [
    "<img src=\"img/table0202.png\" />"
   ]
  },
  {
   "cell_type": "markdown",
   "metadata": {},
   "source": [
    "<div align=\"center\"> table_2_2  </div>  "
   ]
  },
  {
   "cell_type": "markdown",
   "metadata": {},
   "source": [
    "In K-means Analysis section I will analysis restaurants and their categories for each neighborhood in Manhanttan base on table-2-1 and table-2-2, then found out the most preferred neighborhoods."
   ]
  },
  {
   "cell_type": "code",
   "execution_count": null,
   "metadata": {},
   "outputs": [],
   "source": []
  },
  {
   "cell_type": "code",
   "execution_count": null,
   "metadata": {},
   "outputs": [],
   "source": []
  },
  {
   "cell_type": "code",
   "execution_count": null,
   "metadata": {},
   "outputs": [],
   "source": []
  }
 ],
 "metadata": {
  "kernelspec": {
   "display_name": "Python 3",
   "language": "python",
   "name": "python3"
  },
  "language_info": {
   "codemirror_mode": {
    "name": "ipython",
    "version": 3
   },
   "file_extension": ".py",
   "mimetype": "text/x-python",
   "name": "python",
   "nbconvert_exporter": "python",
   "pygments_lexer": "ipython3",
   "version": "3.7.6"
  }
 },
 "nbformat": 4,
 "nbformat_minor": 1
}
